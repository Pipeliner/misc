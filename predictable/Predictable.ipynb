{
 "cells": [
  {
   "cell_type": "code",
   "execution_count": 31,
   "metadata": {
    "collapsed": false
   },
   "outputs": [],
   "source": [
    "import numpy as np\n",
    "from random import randint\n",
    "history = np.ones(shape=(2,2,2,2,2))\n",
    "#indexing: two last actual results,\n",
    "#          two last predictions,\n",
    "#          [number of left keypresses, number of right keypresses]\n",
    "\n",
    "#dummy values to get things started\n",
    "a1 = p1 = 0\n",
    "a2 = p2 = 1\n",
    "\n",
    "prediction = 1\n",
    "\n",
    "\"\"\"\n",
    "0 for left, 1 for right\n",
    "\"\"\"\n",
    "def keyPressed(key):\n",
    "    global a1, a2, p1, p2, prediction\n",
    "    history[a1][a2][p1][p2][key] += 1\n",
    "    a1, a2, p1, p2 = a2, key, p2, prediction\n",
    "    \n",
    "    leftWeight  = history[a1][a2][p1][p2][0]\n",
    "    rightWeight = history[a1][a2][p1][p2][1]\n",
    "    \n",
    "    r = randint(1, leftWeight + rightWeight)\n",
    "    prediction = 0 if r <= leftWeight else 1\n",
    "    \n",
    "    #print key, prediction\n",
    "    printPerformance()\n",
    "    "
   ]
  },
  {
   "cell_type": "code",
   "execution_count": 32,
   "metadata": {
    "collapsed": false
   },
   "outputs": [
    {
     "name": "stdout",
     "output_type": "stream",
     "text": [
      "0.484848484848\n",
      "0.470588235294\n",
      "0.485714285714\n",
      "0.472222222222\n",
      "0.459459459459\n",
      "0.447368421053\n",
      "0.461538461538\n",
      "0.475\n",
      "0.487804878049\n",
      "0.5\n",
      "0.511627906977\n",
      "0.522727272727\n",
      "0.533333333333\n",
      "0.521739130435\n",
      "0.510638297872\n",
      "0.5\n",
      "0.489795918367\n",
      "0.5\n",
      "0.490196078431\n",
      "0.5\n",
      "0.490566037736\n",
      "0.481481481481\n",
      "0.472727272727\n",
      "0.482142857143\n",
      "0.473684210526\n",
      "0.465517241379\n",
      "0.457627118644\n",
      "0.466666666667\n",
      "0.459016393443\n",
      "0.451612903226\n",
      "0.460317460317\n",
      "0.453125\n",
      "0.446153846154\n",
      "0.439393939394\n",
      "0.432835820896\n",
      "0.441176470588\n",
      "0.434782608696\n",
      "0.428571428571\n",
      "0.422535211268\n",
      "0.430555555556\n",
      "0.438356164384\n",
      "0.445945945946\n",
      "0.453333333333\n",
      "0.447368421053\n",
      "0.454545454545\n",
      "0.448717948718\n",
      "0.455696202532\n",
      "0.45\n",
      "0.444444444444\n",
      "0.451219512195\n",
      "0.44578313253\n",
      "0.440476190476\n",
      "0.435294117647\n",
      "0.441860465116\n",
      "0.436781609195\n",
      "0.443181818182\n",
      "0.449438202247\n",
      "0.455555555556\n",
      "0.461538461538\n",
      "0.467391304348\n",
      "0.47311827957\n",
      "0.478723404255\n",
      "0.473684210526\n",
      "0.479166666667\n",
      "0.484536082474\n",
      "0.479591836735\n",
      "0.474747474747\n",
      "0.48\n",
      "0.475247524752\n",
      "0.480392156863\n",
      "0.47572815534\n",
      "0.480769230769\n",
      "0.47619047619\n",
      "0.481132075472\n",
      "0.476635514019\n",
      "0.481481481481\n",
      "0.477064220183\n",
      "0.472727272727\n",
      "0.468468468468\n",
      "0.473214285714\n",
      "0.469026548673\n",
      "0.464912280702\n",
      "0.460869565217\n",
      "0.465517241379\n",
      "0.470085470085\n",
      "0.466101694915\n",
      "0.470588235294\n",
      "0.475\n",
      "0.471074380165\n",
      "0.475409836066\n",
      "0.471544715447\n",
      "0.475806451613\n",
      "0.472\n",
      "0.47619047619\n",
      "0.48031496063\n",
      "0.4765625\n",
      "0.472868217054\n",
      "0.476923076923\n",
      "0.473282442748\n",
      "0.469696969697\n",
      "0.473684210526\n",
      "0.477611940299\n",
      "0.481481481481\n",
      "0.485294117647\n",
      "0.481751824818\n",
      "0.478260869565\n",
      "0.474820143885\n",
      "0.471428571429\n",
      "0.468085106383\n",
      "0.471830985915\n",
      "0.468531468531\n",
      "0.472222222222\n",
      "0.468965517241\n",
      "0.472602739726\n",
      "0.47619047619\n",
      "0.47972972973\n",
      "0.476510067114\n",
      "0.48\n",
      "0.483443708609\n",
      "0.480263157895\n",
      "0.483660130719\n",
      "0.487012987013\n",
      "0.483870967742\n",
      "0.487179487179\n",
      "0.490445859873\n",
      "0.487341772152\n",
      "0.490566037736\n",
      "0.4875\n",
      "0.484472049689\n",
      "0.481481481481\n",
      "0.478527607362\n",
      "0.481707317073\n",
      "0.478787878788\n",
      "0.475903614458\n",
      "0.479041916168\n",
      "0.482142857143\n",
      "0.485207100592\n",
      "0.488235294118\n",
      "0.491228070175\n",
      "0.494186046512\n",
      "0.49710982659\n",
      "0.5\n",
      "0.502857142857\n",
      "0.5\n",
      "0.502824858757\n",
      "0.505617977528\n",
      "0.508379888268\n",
      "0.511111111111\n",
      "0.513812154696\n",
      "0.516483516484\n",
      "0.51912568306\n",
      "0.516304347826\n",
      "0.513513513514\n",
      "0.516129032258\n",
      "0.513368983957\n",
      "0.510638297872\n",
      "0.507936507937\n",
      "0.510526315789\n",
      "0.507853403141\n",
      "0.505208333333\n",
      "0.502590673575\n",
      "0.5\n",
      "0.502564102564\n",
      "0.5\n"
     ]
    }
   ],
   "source": [
    "from ipywidgets import widgets\n",
    "from IPython.display import display\n",
    "left  = widgets.Button(description=\"Left\")\n",
    "right = widgets.Button(description=\"Right\")\n",
    "display(left)\n",
    "display(right)\n",
    "\n",
    "def on_left_clicked(b):\n",
    "    keyPressed(0)\n",
    "\n",
    "def on_right_clicked(b):\n",
    "    keyPressed(1)\n",
    "\n",
    "\n",
    "left.on_click(on_left_clicked)\n",
    "right.on_click(on_right_clicked)"
   ]
  },
  {
   "cell_type": "code",
   "execution_count": 28,
   "metadata": {
    "collapsed": false
   },
   "outputs": [
    {
     "data": {
      "text/plain": [
       "array([[[[[ 10.,   8.],\n",
       "          [  6.,   3.]],\n",
       "\n",
       "         [[  7.,   2.],\n",
       "          [  5.,   3.]]],\n",
       "\n",
       "\n",
       "        [[[  3.,   3.],\n",
       "          [  6.,   5.]],\n",
       "\n",
       "         [[  5.,   1.],\n",
       "          [  3.,   2.]]]],\n",
       "\n",
       "\n",
       "\n",
       "       [[[[  5.,   5.],\n",
       "          [  4.,   2.]],\n",
       "\n",
       "         [[  5.,   2.],\n",
       "          [  2.,   3.]]],\n",
       "\n",
       "\n",
       "        [[[  4.,   4.],\n",
       "          [  2.,   2.]],\n",
       "\n",
       "         [[  4.,   4.],\n",
       "          [  1.,   6.]]]]])"
      ]
     },
     "execution_count": 28,
     "metadata": {},
     "output_type": "execute_result"
    }
   ],
   "source": [
    "history"
   ]
  },
  {
   "cell_type": "code",
   "execution_count": 33,
   "metadata": {
    "collapsed": false
   },
   "outputs": [],
   "source": [
    "def printPerformance():\n",
    "    total = 0\n",
    "    correct = 0\n",
    "    for a1 in xrange(2):\n",
    "        for a2 in xrange(2):\n",
    "            for p1 in xrange(2):\n",
    "                for p2 in xrange(2):\n",
    "                    total += history[a1][a2][p1][p2][0]\n",
    "                    total += history[a1][a2][p1][p2][1]\n",
    "                    correct += history[a1][a2][p1][p2][p2]\n",
    "\n",
    "    print correct / total\n"
   ]
  },
  {
   "cell_type": "code",
   "execution_count": null,
   "metadata": {
    "collapsed": true
   },
   "outputs": [],
   "source": []
  }
 ],
 "metadata": {
  "kernelspec": {
   "display_name": "Python 2",
   "language": "python",
   "name": "python2"
  },
  "language_info": {
   "codemirror_mode": {
    "name": "ipython",
    "version": 2
   },
   "file_extension": ".py",
   "mimetype": "text/x-python",
   "name": "python",
   "nbconvert_exporter": "python",
   "pygments_lexer": "ipython2",
   "version": "2.7.11"
  },
  "widgets": {
   "state": {
    "0186eedca0214e1f8960f2be0afdcba3": {
     "views": []
    },
    "02ed36eb6c0c4591a8d678c33a1e3a37": {
     "views": []
    },
    "09a850bcb01f43ea96a56808d45b4c7d": {
     "views": []
    },
    "0ed079ab49f847feb9145b7791d371a9": {
     "views": []
    },
    "12580ec957f14596a7932e3081b7d661": {
     "views": []
    },
    "1331779da26943489f3753cb5aad2ae9": {
     "views": []
    },
    "14902f1c8a6c4fb3b9784a678d038b7b": {
     "views": [
      {
       "cell_index": 1
      }
     ]
    },
    "176fe988ce694771916c270a280cbd4d": {
     "views": []
    },
    "18d145f8d07b4a53a21546346b79ef1a": {
     "views": []
    },
    "26088cf10b1a4baebafc74d56d141b7b": {
     "views": []
    },
    "2a0ab2de3e92463c806ca3fc6a50a328": {
     "views": []
    },
    "3e0cbfc83fe04f2fad0c4ade3527f85a": {
     "views": []
    },
    "44784563a70441efae124d00a517af4f": {
     "views": []
    },
    "4531e5cba9944e5fa35ded92271a593b": {
     "views": []
    },
    "494f8bcb90c14fb8bc852db553957180": {
     "views": []
    },
    "4c131672f8394482abb5ebd01b848a03": {
     "views": []
    },
    "5336ff1d5b86478881f0ae6c7e01ed60": {
     "views": []
    },
    "5712da40891a4d658df1a29de1b9449c": {
     "views": []
    },
    "587230356ec84011b66465648fc8a870": {
     "views": []
    },
    "589d7f4c95644eefb2f4c9d06a3198c6": {
     "views": []
    },
    "58b8ef0cb5824011a591e16bd90a2125": {
     "views": []
    },
    "59d228751c96477a8f13e4730a7099df": {
     "views": [
      {
       "cell_index": 1
      }
     ]
    },
    "60af5552f192447f8a382a5399c93578": {
     "views": [
      {
       "cell_index": 1
      }
     ]
    },
    "635c92c20f234f02aeb19c6f712878f1": {
     "views": []
    },
    "637c0f3c7b994a23974f8749996c1f2c": {
     "views": []
    },
    "66d0fc16e41e449981abcdb94d0aca68": {
     "views": []
    },
    "686c6dd9219a49dd815a7a2cf558d1ef": {
     "views": []
    },
    "6bd2b32c7cde4709911a182d6484e52e": {
     "views": []
    },
    "712a95f27556429e8dfa640acb2d7835": {
     "views": []
    },
    "7650843add4f46fcaed5d55de7b3a525": {
     "views": []
    },
    "7fb8c54ad3254baaabde706fa66e5dd5": {
     "views": []
    },
    "8b13f70d16ca4ab0a79cecc4e8ee80db": {
     "views": []
    },
    "8d6adc6d014343568be22d59b9eb8c5e": {
     "views": []
    },
    "98c0b4df002d4b69b6cfdbcbe0aad8eb": {
     "views": [
      {
       "cell_index": 1
      }
     ]
    },
    "a1a2b36201ea4d9baf4cbafbfec2a748": {
     "views": [
      {
       "cell_index": 1
      }
     ]
    },
    "a30febaa016d4c32b293a3a14b3f16cb": {
     "views": []
    },
    "a792343d6c1340c78a5e69b01021fc67": {
     "views": []
    },
    "abd7a8f702154e56980d275e3003f4bf": {
     "views": []
    },
    "ae748770f8fb48a8b2896ffb9ab35e8e": {
     "views": []
    },
    "af4e66e6c4574b968a7d617476a5eb7d": {
     "views": []
    },
    "b034bd0b5b6c41aea52ec39eb51d8eea": {
     "views": []
    },
    "b8c6d74057c64413b5f55e188e5626b8": {
     "views": []
    },
    "b9f8ddbb4c2f4f11b029a2fbbeebc14b": {
     "views": []
    },
    "baf387d451ea43f0872ac4af0d8055ab": {
     "views": []
    },
    "bbfed43284b04e069adb5dd9fe20008b": {
     "views": [
      {
       "cell_index": 1
      }
     ]
    },
    "bc65a411200148cbb916907fb774ecfa": {
     "views": []
    },
    "be7a9888d1e442d3b2ef3fc39626f79d": {
     "views": []
    },
    "c02405d5077140858ecf6d63b456347b": {
     "views": []
    },
    "c4d819a9f53e46198607cb759205218a": {
     "views": []
    },
    "c5d820999cb94af8a14c0608771296dc": {
     "views": []
    },
    "c708e2acb64645f4bab4653c603142b2": {
     "views": []
    },
    "c96cfa16189447d98009098daca3d5ff": {
     "views": []
    },
    "d1f995d5b8d74b75b2496901ec85cfc3": {
     "views": []
    },
    "d332c12b3bb24bc7a4891a0bb488ed58": {
     "views": [
      {
       "cell_index": 1
      }
     ]
    },
    "e2fa0caf3c554def9815f1340d89b4bf": {
     "views": []
    },
    "e83fb0381b284fdd822708f49ad8160d": {
     "views": []
    },
    "eb7c93be778e43218ace40b7a089185b": {
     "views": []
    },
    "eed86b5df69d40d087839f6414dcf091": {
     "views": []
    },
    "f1fa2093abac46e888608dc6f603ffd0": {
     "views": []
    },
    "f5b1966460544166a4c5816baefb1428": {
     "views": []
    }
   },
   "version": "1.1.1"
  }
 },
 "nbformat": 4,
 "nbformat_minor": 0
}
